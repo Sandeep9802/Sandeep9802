{
  "nbformat": 4,
  "nbformat_minor": 0,
  "metadata": {
    "colab": {
      "provenance": [],
      "authorship_tag": "ABX9TyO3iOzHeqimW5der8Oz4Qq5",
      "include_colab_link": true
    },
    "kernelspec": {
      "name": "python3",
      "display_name": "Python 3"
    },
    "language_info": {
      "name": "python"
    }
  },
  "cells": [
    {
      "cell_type": "markdown",
      "metadata": {
        "id": "view-in-github",
        "colab_type": "text"
      },
      "source": [
        "<a href=\"https://colab.research.google.com/github/Sandeep9802/Sandeep9802/blob/main/Unt%201%20c.ipynb\" target=\"_parent\"><img src=\"https://colab.research.google.com/assets/colab-badge.svg\" alt=\"Open In Colab\"/></a>"
      ]
    },
    {
      "cell_type": "code",
      "execution_count": 4,
      "metadata": {
        "colab": {
          "base_uri": "https://localhost:8080/"
        },
        "id": "kcZumdbyLE1n",
        "outputId": "60f1345d-2da9-4017-dac6-16c4e7eedee0"
      },
      "outputs": [
        {
          "output_type": "stream",
          "name": "stdout",
          "text": [
            "          RI     Na    Mg    Al     Si     K    Ca    Ba   Fe  Type\n",
            "0    1.52101  13.64  4.49  1.10  71.78  0.06  8.75  0.00  0.0     1\n",
            "1    1.51761  13.89  3.60  1.36  72.73  0.48  7.83  0.00  0.0     1\n",
            "2    1.51618  13.53  3.55  1.54  72.99  0.39  7.78  0.00  0.0     1\n",
            "3    1.51766  13.21  3.69  1.29  72.61  0.57  8.22  0.00  0.0     1\n",
            "4    1.51742  13.27  3.62  1.24  73.08  0.55  8.07  0.00  0.0     1\n",
            "..       ...    ...   ...   ...    ...   ...   ...   ...  ...   ...\n",
            "209  1.51623  14.14  0.00  2.88  72.61  0.08  9.18  1.06  0.0     7\n",
            "210  1.51685  14.92  0.00  1.99  73.06  0.00  8.40  1.59  0.0     7\n",
            "211  1.52065  14.36  0.00  2.02  73.42  0.00  8.44  1.64  0.0     7\n",
            "212  1.51651  14.38  0.00  1.94  73.61  0.00  8.48  1.57  0.0     7\n",
            "213  1.51711  14.23  0.00  2.08  73.36  0.00  8.62  1.67  0.0     7\n",
            "\n",
            "[214 rows x 10 columns]\n"
          ]
        }
      ],
      "source": [
        "\n",
        "# Import necessary libraries\n",
        "from sklearn.preprocessing import MinMaxScaler, StandardScaler\n",
        "import pandas as pd\n",
        "\n",
        "# Load dataset into a Pandas DataFrame\n",
        "df = pd.read_csv(\"/content/glass.csv\")\n",
        "\n",
        "# Apply Min-Max Scaling\n",
        "scaler = MinMaxScaler()\n",
        "scaled_data = scaler.fit_transform(df)\n",
        "\n",
        "# Apply Standardization\n",
        "scaler = StandardScaler()\n",
        "standardized_data = scaler.fit_transform(df)\n",
        "print(df)"
      ]
    }
  ]
}