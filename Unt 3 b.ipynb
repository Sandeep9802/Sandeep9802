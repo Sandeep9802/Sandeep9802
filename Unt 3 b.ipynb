{
  "nbformat": 4,
  "nbformat_minor": 0,
  "metadata": {
    "colab": {
      "provenance": [],
      "authorship_tag": "ABX9TyN9qoKXmZwKJiGuuWlyleC+",
      "include_colab_link": true
    },
    "kernelspec": {
      "name": "python3",
      "display_name": "Python 3"
    },
    "language_info": {
      "name": "python"
    }
  },
  "cells": [
    {
      "cell_type": "markdown",
      "metadata": {
        "id": "view-in-github",
        "colab_type": "text"
      },
      "source": [
        "<a href=\"https://colab.research.google.com/github/Sandeep9802/Sandeep9802/blob/main/Unt%203%20b.ipynb\" target=\"_parent\"><img src=\"https://colab.research.google.com/assets/colab-badge.svg\" alt=\"Open In Colab\"/></a>"
      ]
    },
    {
      "cell_type": "code",
      "execution_count": 3,
      "metadata": {
        "colab": {
          "base_uri": "https://localhost:8080/"
        },
        "id": "gVS5nH6uOVHl",
        "outputId": "4a5b6d41-6db6-419e-bfc8-fe822d63bd1c"
      },
      "outputs": [
        {
          "output_type": "stream",
          "name": "stdout",
          "text": [
            "Accuracy: 0.960\n",
            "Precision: 0.961\n",
            "Recall: 0.960\n",
            "F1-score: 0.960\n"
          ]
        }
      ],
      "source": [
        "\n",
        "import pandas as pd\n",
        "import numpy as np\n",
        "\n",
        "from sklearn.ensemble import RandomForestClassifier\n",
        "from sklearn.datasets import load_iris\n",
        "from sklearn.model_selection import cross_val_score, cross_validate\n",
        "from sklearn.metrics import make_scorer, accuracy_score, precision_score, recall_score, f1_score\n",
        "\n",
        "\n",
        "data = load_iris()\n",
        "X = data['data']\n",
        "y = data['target']\n",
        "\n",
        "\n",
        "model = RandomForestClassifier()\n",
        "\n",
        "\n",
        "scoring = {\n",
        "    'accuracy': make_scorer(accuracy_score),\n",
        "    'precision_macro': make_scorer(precision_score, average='macro'),\n",
        "    'recall_macro': make_scorer(recall_score, average='macro'),\n",
        "    'f1_macro': make_scorer(f1_score, average='macro')\n",
        "}\n",
        "\n",
        "cv_results = cross_validate(model, X, y, cv=3, scoring=scoring)\n",
        "\n",
        "\n",
        "print(f\"Accuracy: {np.mean(cv_results['test_accuracy']):.3f}\")\n",
        "print(f\"Precision: {np.mean(cv_results['test_precision_macro']):.3f}\")\n",
        "print(f\"Recall: {np.mean(cv_results['test_recall_macro']):.3f}\")\n",
        "print(f\"F1-score: {np.mean(cv_results['test_f1_macro']):.3f}\")"
      ]
    }
  ]
}