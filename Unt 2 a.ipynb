{
  "nbformat": 4,
  "nbformat_minor": 0,
  "metadata": {
    "colab": {
      "provenance": [],
      "authorship_tag": "ABX9TyMwlOIYe/PkTT3eYaP5wzJb",
      "include_colab_link": true
    },
    "kernelspec": {
      "name": "python3",
      "display_name": "Python 3"
    },
    "language_info": {
      "name": "python"
    }
  },
  "cells": [
    {
      "cell_type": "markdown",
      "metadata": {
        "id": "view-in-github",
        "colab_type": "text"
      },
      "source": [
        "<a href=\"https://colab.research.google.com/github/Sandeep9802/Sandeep9802/blob/main/Unt%202%20a.ipynb\" target=\"_parent\"><img src=\"https://colab.research.google.com/assets/colab-badge.svg\" alt=\"Open In Colab\"/></a>"
      ]
    },
    {
      "cell_type": "code",
      "execution_count": 1,
      "metadata": {
        "colab": {
          "base_uri": "https://localhost:8080/"
        },
        "id": "gVS5nH6uOVHl",
        "outputId": "48d688e7-ce6e-4214-b449-b8aa128b6b4e"
      },
      "outputs": [
        {
          "output_type": "stream",
          "name": "stdout",
          "text": [
            "   age  income signup_date  age_squared  income_log  signup_year  \\\n",
            "0   21   50800  2022-01-02          441   10.835652         2022   \n",
            "1   21   60600  2024-06-01          441   11.012050         2024   \n",
            "2   22   36000  2024-01-01          484   10.491274         2024   \n",
            "3   20   70900  2024-03-01          400   11.169026         2024   \n",
            "\n",
            "   days_since_signup  \n",
            "0               1038  \n",
            "1                157  \n",
            "2                309  \n",
            "3                249  \n"
          ]
        }
      ],
      "source": [
        "\n",
        "import pandas as pd\n",
        "import numpy as np\n",
        "import sklearn.datasets\n",
        "from sklearn.model_selection import train_test_split\n",
        "from sklearn.linear_model import LogisticRegression\n",
        "from sklearn.metrics import accuracy_score\n",
        "\n",
        "\n",
        "# Sample DataFrame\n",
        "data = {\n",
        "    'age': [21, 21, 22, 20],\n",
        "    'income': [50800, 60600, 36000, 70900],\n",
        "    'signup_date': pd.to_datetime(['2022-01-02', '2024-06-01', '2024-01-01', '2024-03-01'])\n",
        "}\n",
        "\n",
        "df = pd.DataFrame(data)\n",
        "\n",
        "# Creating new features\n",
        "df['age_squared'] = df['age'] ** 2  # Polynomial feature\n",
        "df['income_log'] = df['income'].apply(lambda x: np.log(x))  # Log transformation\n",
        "df['signup_year'] = df['signup_date'].dt.year  # Extracting year from date\n",
        "df['days_since_signup'] = (pd.to_datetime('today') - df['signup_date']).dt.days  # Time since signup\n",
        "\n",
        "print(df)"
      ]
    }
  ]
}