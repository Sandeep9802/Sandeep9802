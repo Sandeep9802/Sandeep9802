{
  "nbformat": 4,
  "nbformat_minor": 0,
  "metadata": {
    "colab": {
      "provenance": [],
      "authorship_tag": "ABX9TyPAOH7NWggT4aP6zF0AOs5g",
      "include_colab_link": true
    },
    "kernelspec": {
      "name": "python3",
      "display_name": "Python 3"
    },
    "language_info": {
      "name": "python"
    }
  },
  "cells": [
    {
      "cell_type": "markdown",
      "metadata": {
        "id": "view-in-github",
        "colab_type": "text"
      },
      "source": [
        "<a href=\"https://colab.research.google.com/github/Sandeep9802/Sandeep9802/blob/main/Unt%207%20a.ipynb\" target=\"_parent\"><img src=\"https://colab.research.google.com/assets/colab-badge.svg\" alt=\"Open In Colab\"/></a>"
      ]
    },
    {
      "cell_type": "code",
      "execution_count": 10,
      "metadata": {
        "colab": {
          "base_uri": "https://localhost:8080/"
        },
        "id": "gVS5nH6uOVHl",
        "outputId": "321b719f-fc34-46b1-a61e-667856dc85d8"
      },
      "outputs": [
        {
          "output_type": "stream",
          "name": "stdout",
          "text": [
            "Predictions: [0, 1]\n"
          ]
        }
      ],
      "source": [
        "import numpy as np\n",
        "\n",
        "class NaiveBayesClassifier:\n",
        "    def __init__(self):\n",
        "        self.classes = None\n",
        "        self.mean = {}\n",
        "        self.variance = {}\n",
        "        self.priors = {}\n",
        "\n",
        "    def fit(self, X, y):\n",
        "        self.classes = np.unique(y)\n",
        "        for c in self.classes:\n",
        "            X_c = X[y == c]\n",
        "            self.mean[c] = np.mean(X_c, axis=0)\n",
        "            self.variance[c] = np.var(X_c, axis=0)\n",
        "            self.priors[c] = X_c.shape[0] / X.shape[0]\n",
        "\n",
        "    def calculate_likelihood(self, class_idx, x):\n",
        "        mean = self.mean[class_idx]\n",
        "        var = self.variance[class_idx]\n",
        "        numerator = np.exp(-((x - mean)**2) / (2 * var))\n",
        "        denominator = np.sqrt(2 * np.pi * var)\n",
        "        return numerator / denominator\n",
        "\n",
        "    def calculate_posterior(self, x):\n",
        "        posteriors = []\n",
        "        for c in self.classes:\n",
        "            prior = np.log(self.priors[c])\n",
        "            likelihoods = np.sum(np.log(self.calculate_likelihood(c, x)))\n",
        "            posterior = prior + likelihoods\n",
        "            posteriors.append(posterior)\n",
        "        return self.classes[np.argmax(posteriors)]\n",
        "\n",
        "    def predict(self, X):\n",
        "        return [self.calculate_posterior(x) for x in X]\n",
        "\n",
        "\n",
        "if __name__ == \"__main__\":\n",
        "\n",
        "    X = np.array([[1, 30], [2, 3], [3, 2], [1, 21], [2, 23], [3, 14]])\n",
        "    y = np.array([0, 0, 1, 1, 0, 1])\n",
        "\n",
        "\n",
        "    model = NaiveBayesClassifier()\n",
        "    model.fit(X, y)\n",
        "\n",
        "\n",
        "    X_test = np.array([[1, 20], [3, 23]])\n",
        "    predictions = model.predict(X_test)\n",
        "    print(\"Predictions:\", predictions)"
      ]
    }
  ]
}